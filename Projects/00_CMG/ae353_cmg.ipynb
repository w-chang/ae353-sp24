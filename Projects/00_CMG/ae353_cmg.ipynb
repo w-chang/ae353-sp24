{
 "cells": [
  {
   "cell_type": "markdown",
   "id": "4b1832e9-e83a-411b-ba9f-a49c9b8df015",
   "metadata": {},
   "source": [
    "# Introduction\n",
    "The first project that you will complete this semester is to design, implement, and test a controller that uses a single-gimbal control moment gyroscope (CMG) to reorient a platform in a gravitational field, as pictured below:"
   ]
  },
  {
   "cell_type": "code",
   "execution_count": null,
   "id": "ca920463-67b0-4d2c-85bd-df831a79d061",
   "metadata": {},
   "outputs": [],
   "source": []
  },
  {
   "cell_type": "markdown",
   "id": "2007dcef-1578-445a-8fd6-b583ef5ec03b",
   "metadata": {},
   "source": [
    "# System Dynamics and Equations of Motion\n",
    "This is the model of the cart. There are two generalized coordinates: $\\theta$ (the pendulum angle) and $\\phi$ (the wheel angle). Because we assume that all the wheels are rolling without slipping, each wheel has the same angle. Further, the $x$ coordinate of the cart can be expressed in terms of the wheel angle and the radius of the wheels, $r$. Lastly, the input to the system is some torque, $\\tau$, that is applied equally to all the wheels."
   ]
  },
  {
   "cell_type": "markdown",
   "id": "3b206d79-b36a-427b-b689-f1a147e3bb90",
   "metadata": {},
   "source": [
    "The first step in the Lagrangian mechanics approach is to calculate the total kinetic energy of the system and the total potential energy of the system with respect to the generalized coordinates and their derivatives. We can do this using the Python package Sympy."
   ]
  },
  {
   "cell_type": "code",
   "execution_count": null,
   "id": "f7de296c-7a40-48cb-8a59-317a2509cc7c",
   "metadata": {},
   "outputs": [],
   "source": [
    "# Import everything we need from SymPy\n",
    "from sympy import Symbol, Matrix, Function, Derivative, N\n",
    "from sympy import diff, simplify, sin, cos, solve, init_printing\n",
    "init_printing() # This function will make the outputs of SymPy look prettier and be easier to read"
   ]
  },
  {
   "cell_type": "markdown",
   "id": "a4b88b61-c603-4b0b-b1a6-564ea183697d",
   "metadata": {},
   "source": [
    "Now we are going to define the parameters of the system as constants:"
   ]
  },
  {
   "cell_type": "code",
   "execution_count": null,
   "id": "456db72d-e7c7-4098-95fe-885cc8201dfe",
   "metadata": {},
   "outputs": [],
   "source": [
    "# Constants of the system\n",
    "mp = 1.0\n",
    "mc = 6.0\n",
    "mw = 1.0\n",
    "l = 1.0\n",
    "r = 0.25\n",
    "g = 9.81"
   ]
  },
  {
   "cell_type": "markdown",
   "id": "b3e79948-102a-4f79-8877-dfa4fe7090c7",
   "metadata": {},
   "source": [
    "Now we make symbols and functions. These are elements of SymPy and can be thought of as exactly the same as symbols (variables) and functions from math."
   ]
  },
  {
   "cell_type": "code",
   "execution_count": null,
   "id": "9f463ceb-8785-43a0-9d5b-0c613dc0574a",
   "metadata": {},
   "outputs": [],
   "source": [
    "# Time is a symbol (variable)\n",
    "t = Symbol('t')\n",
    "\n",
    "# The generalized coordinates and the input torque are both functions of time.\n",
    "# This means that they are initialized as Functions.\n",
    "theta = Function('theta')\n",
    "phi = Function('phi')\n",
    "tau = Function('tau')"
   ]
  },
  {
   "cell_type": "markdown",
   "id": "6f37605e-5152-46a4-8c63-0a0e868b6f50",
   "metadata": {},
   "source": [
    "Now we will start to calculate the energies of the system. We can start by getting the kinetic energy of the mass on top of the rod. We can do this by:\n",
    "1. Defining its position in terms of the generalized coordinates\n",
    "2. Take the derivate of the position with respect to time to get the velocity\n",
    "3. Calculate the kinetic energy from the velocity\n",
    "4. Calculate the potential energy by observation"
   ]
  },
  {
   "cell_type": "code",
   "execution_count": null,
   "id": "e3f8a289-b422-4d89-a08e-6b738c441832",
   "metadata": {},
   "outputs": [],
   "source": [
    "# Get the position of the mass in terms of phi and theta\n",
    "pos = Matrix([-r*phi(t) - l*sin( theta(t) ),\n",
    "              0.0,\n",
    "              l*cos( theta(t) )])"
   ]
  },
  {
   "cell_type": "code",
   "execution_count": null,
   "id": "da62c9fe-0b57-434b-801b-17c4a23a711c",
   "metadata": {},
   "outputs": [],
   "source": [
    "# Take the derivative of the position with respect to time\n",
    "vel = diff(pos,t)"
   ]
  },
  {
   "cell_type": "code",
   "execution_count": null,
   "id": "a9aea6c1-cdaa-4565-905a-52f655571220",
   "metadata": {},
   "outputs": [],
   "source": [
    "# Get the kinetic energy of the mass from the velocity\n",
    "mass_KE = 0.5 * mp * (vel.T @ vel)[0,0]"
   ]
  },
  {
   "cell_type": "code",
   "execution_count": null,
   "id": "c849be97-8919-42fe-b3de-9b5199a2e854",
   "metadata": {},
   "outputs": [],
   "source": [
    "# Get the potential energy of the mass based on its position\n",
    "mass_PE = mp*g*l*cos(theta(t))"
   ]
  },
  {
   "cell_type": "markdown",
   "id": "c17e29fd-d2f8-41c2-8738-6a028f0b8993",
   "metadata": {},
   "source": [
    "Because the rod is assumed to be massless and have no inertia, we can move on the the energy of the cart. The cart does not change height, so its potential energy is automatically 0. This means all we have to do is calculate the kinetic energy."
   ]
  },
  {
   "cell_type": "code",
   "execution_count": null,
   "id": "b63af795-d9d8-473c-b4d7-173f7849577a",
   "metadata": {},
   "outputs": [],
   "source": [
    "# Get the position of the cart in terms of phi and theta\n",
    "pos = Matrix([-phi(t)*r,\n",
    "              0.0,\n",
    "              0.0])"
   ]
  },
  {
   "cell_type": "code",
   "execution_count": null,
   "id": "c481d0c0-a9b5-46da-91ec-528a05637df4",
   "metadata": {},
   "outputs": [],
   "source": [
    "# Take the derivative of the position with respect to time\n",
    "vel = diff(pos,t)"
   ]
  },
  {
   "cell_type": "code",
   "execution_count": null,
   "id": "f0fa548c-cdef-4c30-b7ad-56fa75282a96",
   "metadata": {},
   "outputs": [],
   "source": [
    "# Get the kinetic energy of the cart from the velocity\n",
    "cart_KE = 0.5 * mc * (vel.T @ vel)[0,0]"
   ]
  },
  {
   "cell_type": "markdown",
   "id": "caed9432-1714-402d-b608-344347a7354a",
   "metadata": {},
   "source": [
    "Next up, the wheels. Similarly, they have no potential energy, however they do have rotational energy. So we need to calculate both thier kinetic and rotational energy. Also, while calculating the position, we will ignore the constant offsets that each of the four wheels have. We can do this because constants disappear during differentiation."
   ]
  },
  {
   "cell_type": "code",
   "execution_count": null,
   "id": "107fd111-0627-4bbc-805e-ea84bcb07cc3",
   "metadata": {},
   "outputs": [],
   "source": [
    "# Get the position of the wheels in terms of phi and theta\n",
    "pos = Matrix([-phi(t)*r,\n",
    "              0.0,\n",
    "              0.0])"
   ]
  },
  {
   "cell_type": "code",
   "execution_count": null,
   "id": "f66c36e4-e63a-42b7-90b8-b14a9b3f9b96",
   "metadata": {},
   "outputs": [],
   "source": [
    "# Take the derivative of the position with respect to time\n",
    "vel = diff(pos,t)"
   ]
  },
  {
   "cell_type": "code",
   "execution_count": null,
   "id": "06c9c7db-6d9a-4746-b52d-1b04c87f5355",
   "metadata": {},
   "outputs": [],
   "source": [
    "# Get the kinetic energy of all four wheels from the velocity\n",
    "wheel_KE = 4.0 * (0.5 * mw * (vel.T @ vel)[0,0])"
   ]
  },
  {
   "cell_type": "code",
   "execution_count": null,
   "id": "495ed917-c0ec-4358-accb-880e5474c248",
   "metadata": {},
   "outputs": [],
   "source": [
    "# Get the rotational kinetic energy of all four wheels\n",
    "I = 0.5*mw*r**2\n",
    "wheel_RE = 4.0*(I*diff(phi(t),t)**2)"
   ]
  },
  {
   "cell_type": "markdown",
   "id": "d88397df-bf5c-42c7-bb6b-ad29086a625f",
   "metadata": {},
   "source": [
    "Now we calculate the lagrangian of the system via the formula:$$L=T-V$$ where $T$ is the total kinetic energy and $V$ is the total potential energy."
   ]
  },
  {
   "cell_type": "code",
   "execution_count": null,
   "id": "5a0a2609-c15f-4441-bdd7-d984278375ad",
   "metadata": {},
   "outputs": [],
   "source": [
    "# Get the lagrangian\n",
    "L = (mass_KE + cart_KE + wheel_KE + wheel_RE) - mass_PE\n",
    "print(\"System Lagrangian:\")\n",
    "L = simplify(L)\n",
    "N(L, 3) # This rounds floating point number to 3 places and then prints to the screen"
   ]
  },
  {
   "cell_type": "markdown",
   "id": "6c960338-eefa-4c28-82e2-bfcdb82aff95",
   "metadata": {},
   "source": [
    "Finally, we get the equations of motion of the system via the formulas:\n",
    "$$\\frac{d}{dt} \\left( \\frac{\\partial L}{\\partial \\dot{\\theta}} \\right) - \\frac{\\partial L}{\\partial \\theta}=0$$\n",
    "$$\\frac{d}{dt} \\left( \\frac{\\partial L}{\\partial \\dot{\\phi}} \\right) - \\frac{\\partial L}{\\partial \\phi}=\\tau$$"
   ]
  },
  {
   "cell_type": "code",
   "execution_count": null,
   "id": "9b09fffa-1a8f-4ccb-98f5-087250f073d1",
   "metadata": {},
   "outputs": [],
   "source": [
    "# Get the first equation of motion\n",
    "eq1 = diff(diff(L, Derivative(theta(t), t)), t) - diff(L, theta(t))"
   ]
  },
  {
   "cell_type": "code",
   "execution_count": null,
   "id": "6b6b0f2a-29d5-408d-bf6d-e4b217898103",
   "metadata": {},
   "outputs": [],
   "source": [
    "# Get the second equation of motion\n",
    "eq2 = diff(diff(L, Derivative(phi(t), t)), t) - diff(L, phi(t)) - tau(t)"
   ]
  },
  {
   "cell_type": "markdown",
   "id": "30359c9d-0dd0-4cc0-95f5-067abe764e90",
   "metadata": {},
   "source": [
    "This form of equations of motion is not very helpful to us right now, so next we will place them in standard form. A standard form system of ordinary differential equations satisfy the following requirements\n",
    "* All equations are exactly first order ordinary differential equations\n",
    "* Each equation only has exactly one time derivative variable in it\n",
    "* Each equation has the form $\\frac{d x}{dt} = f(x,y,z,...)$\n",
    "\n",
    "Because the equations of motion above are second order, we need to apply a trick to place them in standard form. Namely, we introduce new variables that increase the number of equations while reducing the order of each equation. For example, let's introduce two new variables, $\\omega_{\\theta}$ and $\\omega_{\\phi}$ that satisfy the standard form ordinary differential equations:\n",
    "$$\\frac{d \\theta}{dt} = \\omega_{\\theta}$$\n",
    "$$\\frac{d \\phi}{dt} = \\omega_{\\phi}$$\n",
    "Then, by taking the derivative of both sides, we see that\n",
    "$$\\frac{d^2 \\theta}{d t^2} = \\frac{d \\omega_{\\theta}}{dt}$$\n",
    "$$\\frac{d^2 \\phi}{d t^2} = \\frac{d \\omega_{\\phi}}{dt}$$\n",
    "Let's make this change of variables to our equations of motion right now."
   ]
  },
  {
   "cell_type": "code",
   "execution_count": null,
   "id": "e963c6dc-3e8e-4002-b258-7be2ec47a3dc",
   "metadata": {},
   "outputs": [],
   "source": [
    "# Make the new functions for our change of variables\n",
    "omega_theta = Function('omega_theta')\n",
    "omega_phi = Function('omega_phi')"
   ]
  },
  {
   "cell_type": "code",
   "execution_count": null,
   "id": "e4675526-31f2-40ff-aa04-163d97c0570b",
   "metadata": {},
   "outputs": [],
   "source": [
    "# Make the change of variables for equation 1\n",
    "eq1 = eq1.subs({Derivative(theta(t), (t, 2)) : Derivative(omega_theta(t), t), \n",
    "                Derivative(phi(t), (t, 2))   : Derivative(omega_phi(t), t),\n",
    "                Derivative(theta(t), t)      : omega_theta(t),\n",
    "                Derivative(phi(t), t)        : omega_phi(t)})"
   ]
  },
  {
   "cell_type": "code",
   "execution_count": null,
   "id": "8f1d64f5-efa3-4be9-b956-f0f967764e2d",
   "metadata": {},
   "outputs": [],
   "source": [
    "# Repeat for equation 2\n",
    "eq2 = eq2.subs({Derivative(theta(t), (t, 2)) : Derivative(omega_theta(t), t), \n",
    "                Derivative(phi(t), (t, 2))   : Derivative(omega_phi(t), t),\n",
    "                Derivative(theta(t), t)      : omega_theta(t),\n",
    "                Derivative(phi(t), t)        : omega_phi(t)})"
   ]
  },
  {
   "cell_type": "markdown",
   "id": "09bffba8-910d-43be-914c-0d8c7fdb4fbc",
   "metadata": {},
   "source": [
    "The final step to place the equations in standard form is to ensure they have the form $\\frac{d x}{dt} = f(x,y,z,...)$. We do this now."
   ]
  },
  {
   "cell_type": "code",
   "execution_count": null,
   "id": "f51d8f68-0704-428f-b256-813bb26be2d5",
   "metadata": {},
   "outputs": [],
   "source": [
    "# Solve the first two equations of motion for \\dot{omega_theta} and \\dot{omega_phi}\n",
    "soln = solve([eq1, eq2],\n",
    "             Derivative(omega_theta(t), t),\n",
    "             Derivative(omega_phi(t), t))\n",
    "soln = simplify(soln)"
   ]
  },
  {
   "cell_type": "markdown",
   "id": "373f26ad-3a4e-45c5-9841-bb308b5db61c",
   "metadata": {},
   "source": [
    "We now have a system of ordinary differential equations in standard from. Specifically, we have:\n",
    "$$\\frac{d \\omega_{\\theta}}{dt} = f_{\\omega_{\\theta}}\\left( \\omega_{\\theta}, \\omega_{\\phi}, \\theta, \\phi, \\tau \\right)$$\n",
    "$$\\frac{d \\omega_{\\phi}}{dt} = f_{\\omega_{\\phi}}\\left( \\omega_{\\theta}, \\omega_{\\phi}, \\theta, \\phi, \\tau \\right)$$\n",
    "$$\\frac{d \\theta}{dt} = f_{\\theta}\\left( \\omega_{\\theta}, \\omega_{\\phi}, \\theta, \\phi, \\tau \\right)$$\n",
    "$$\\frac{d \\phi}{dt} = f_{\\phi}\\left( \\omega_{\\theta}, \\omega_{\\phi}, \\theta, \\phi, \\tau \\right)$$"
   ]
  },
  {
   "cell_type": "markdown",
   "id": "4fd6bf14-d7c7-4df0-b06b-09b0199822a3",
   "metadata": {},
   "source": [
    "Let's now combine the right hand side of this system into a single vector."
   ]
  },
  {
   "cell_type": "code",
   "execution_count": null,
   "id": "cf61ac6a-c526-4422-8267-a5d353fdcdc9",
   "metadata": {},
   "outputs": [],
   "source": [
    "sys = Matrix([soln[Derivative(omega_theta(t), t)],\n",
    "              soln[Derivative(omega_phi(t), t)],\n",
    "              omega_theta(t),\n",
    "              omega_phi(t)])\n",
    "sys = simplify(sys)\n",
    "N(sys, 3) # This rounds floating point number to 3 places and then prints to the screen"
   ]
  },
  {
   "cell_type": "markdown",
   "id": "a9574ee3-c593-4977-b31c-92bb3560e5d5",
   "metadata": {},
   "source": [
    "This is our complete system model!"
   ]
  },
  {
   "cell_type": "markdown",
   "id": "891c2270-326e-4730-85a3-5c1b88cf0dae",
   "metadata": {},
   "source": [
    "# System Linearization and State Space Form"
   ]
  },
  {
   "cell_type": "code",
   "execution_count": null,
   "id": "81894fed-4eb1-48d3-831d-f5c390b7de5c",
   "metadata": {},
   "outputs": [],
   "source": [
    "# FIXME: Linearize the system here"
   ]
  },
  {
   "cell_type": "markdown",
   "id": "1fdd56e4-9025-4c72-85e6-c1f6bafc615d",
   "metadata": {},
   "source": [
    "# Gain Selection and Controller Design"
   ]
  },
  {
   "cell_type": "code",
   "execution_count": null,
   "id": "1cdc05c4-68b2-454a-b4b1-95e5126ce33b",
   "metadata": {},
   "outputs": [],
   "source": [
    "# FIXME: Select the control gains here"
   ]
  },
  {
   "cell_type": "code",
   "execution_count": null,
   "id": "6edbadb8-4d14-4a26-8a40-d9ea0bafb9d8",
   "metadata": {},
   "outputs": [],
   "source": [
    "# This module is part of condynsate and let's you detect key presses\n",
    "from condynsate.keyboard import Keys\n",
    "\n",
    "# Create the Controller class\n",
    "class Controller():\n",
    "    def __init__(self):\n",
    "        \"\"\"\n",
    "        Initializes the controller. You should initialize any member variables that\n",
    "        the controller will use to their starting values. This function is called\n",
    "        when a new instance of the Controller class is created.\n",
    "    \n",
    "        Parameters\n",
    "        ----------\n",
    "        None.\n",
    "    \n",
    "        Returns\n",
    "        -------\n",
    "        None.\n",
    "        \"\"\"\n",
    "        # FIXME: Replace the following manual controller initialization with your own initialization\n",
    "        # Create a keyboard press tracker for a manual controller\n",
    "        self.keys = Keys() \n",
    "\n",
    "    \n",
    "    def reset(self):\n",
    "        \"\"\"\n",
    "        Resets the controller to an initial state. You should reset any variables\n",
    "        that track states, times, etc. in this function. This function will be \n",
    "        called just before the simulation starts running and any time the simulation\n",
    "        is reset.\n",
    "    \n",
    "        Parameters\n",
    "        ----------\n",
    "        None.\n",
    "    \n",
    "        Returns\n",
    "        -------\n",
    "        None.\n",
    "        \"\"\"\n",
    "        # FIXME: Replace the following manual controller reset with your own reset function\n",
    "        pass \n",
    "\n",
    "    \n",
    "    def run(self, **kwargs):\n",
    "        \"\"\"\n",
    "        Runs the controller. Data is passed from the simulation environment to the\n",
    "        controller via kwargs, the controller calculates the inputs to the system,\n",
    "        and then returns them via a return statement\n",
    "    \n",
    "        Parameters\n",
    "        ----------\n",
    "        **kwargs : Dictionary\n",
    "            A dictionary of data passed from the simulation environment to the \n",
    "            controller. Specific data is extracted from kwargs via the statement:\n",
    "            kwargs[\"KEYWORD\"], where \"KEYWORD\" is a key to the dictionary. The keys\n",
    "            of kwargs for this project are as follows:\n",
    "\n",
    "            pendulum_angle : Float\n",
    "                The current angle of the pendulum in radians (theta)\n",
    "\n",
    "            wheel_angle : Float\n",
    "                The current target angle of the wheels in radians (phi)\n",
    "\n",
    "            pendulum_velocity : Float\n",
    "                The current angular velocity of the pendulum in radians/second\n",
    "\n",
    "            wheel_velocity : Float\n",
    "                The current target angular velocity of the wheels in radians/second\n",
    "\n",
    "            time : Float\n",
    "                The current simulation time in seconds\n",
    "            \n",
    "    \n",
    "        Returns\n",
    "        -------\n",
    "        inputs : List with length equal to the number of inputs\n",
    "            This is a list of the inputs calculated by the controller. In this\n",
    "            project, there is only one input, the torque to be applied to the \n",
    "            wheels. Even though there is only one input in this project,\n",
    "            it still must be placed in a list of length one.\n",
    "        \n",
    "        \"\"\"\n",
    "        # FIXME: Replace the following manual controller code with your controller code\n",
    "        # Detect key presses and set torque accordingly \n",
    "        if self.keys.is_pressed(\"shift+d\"):\n",
    "            torque = 5.0\n",
    "        elif self.keys.is_pressed(\"shift+a\"):\n",
    "            torque = -5.0\n",
    "        elif self.keys.is_pressed(\"d\"):\n",
    "            torque = 1.0\n",
    "        elif self.keys.is_pressed(\"a\"):\n",
    "            torque = -1.0\n",
    "        else:\n",
    "            torque = 0.0\n",
    "    \n",
    "        # Return the manually set torque\n",
    "        inputs = [torque]\n",
    "        return inputs"
   ]
  },
  {
   "cell_type": "code",
   "execution_count": null,
   "id": "cad55a09-a7f1-447c-9ce9-63a4c30c04d0",
   "metadata": {},
   "outputs": [],
   "source": [
    "# Import the cart project. This module is used to simulate, render, and plot a wheel dynamic system\n",
    "import ae353_cart"
   ]
  },
  {
   "cell_type": "code",
   "execution_count": null,
   "id": "ffa9200a-ceef-4b94-bd0c-9bde818e1a89",
   "metadata": {},
   "outputs": [],
   "source": [
    "# Create an instance of the cart simulator\n",
    "sim = ae353_cart.Cart_sim()"
   ]
  },
  {
   "cell_type": "code",
   "execution_count": null,
   "id": "5cec8e3f-0c1e-41bf-bcca-3c3b4280604e",
   "metadata": {},
   "outputs": [],
   "source": [
    "# Create an instance of our Controller class\n",
    "controller = Controller()"
   ]
  },
  {
   "cell_type": "markdown",
   "id": "b18f66fa-b1b3-4f87-9e15-8e4ab8190258",
   "metadata": {},
   "source": [
    "## Running the simulation\n",
    "Now we are ready to run the simulation and collect data. To do this we call the ``sim.run()`` function. This function takes an instance of the ``Controller`` class as an argument and returns ``data``. The parameters and return values of ``sim.run()`` are shown below.\n",
    "\n",
    "#### Parameters\n",
    "\n",
    "> **controller** : *member of Controller class*  \n",
    "> Your controller that will generated inputs to the system.\n",
    "> \n",
    "> **initial_pendulum_angle** : *Float, optional*  \n",
    "> The initial angle of the pendulum in radians. This is set when the simulation starts and when the simulation is reset. The default value is 0.0.\n",
    "> \n",
    "> **initial_wheel_angle** : *Float, optional*  \n",
    "> The initial angle of the wheels in radians. This is set when the simulation starts and when the simulation is reset. The default value is 0.0.\n",
    "> \n",
    "> **initial_pendulum_velocity** : *Float, optional*  \n",
    "> The initial velocity of the pendulum in radians/second. This is set when the simulation starts and when the simulation is reset. The default value is 0.0.\n",
    "> \n",
    "> **initial_wheel_velocity** : *Float, optional*  \n",
    "> The initial velocity of the wheels in radians/second. This is set when the simulation starts and when the simulation is reset. The default value is 0.0.\n",
    "\n",
    "\n",
    "#### Returns\n",
    "\n",
    "> **data** : *Dictionary of Lists*  \n",
    "> A dictionary containing all relevant data generated during the simulation. Specific data is extracted via the statement: data[\"KEYWORD\"], where \"KEYWORD\" is a key to the dictionary. The keys of data for this project are as follows:\n",
    "> \n",
    "> **data[\"pendulum_angle\"]** : *List of Floats*  \n",
    "> A list of the pendulum angle in radians at each time stamp during the simulation.\n",
    "> \n",
    "> **data[\"wheel_angle\"]** : *List of Floats*  \n",
    "> A list of the wheel angle in radians at each time stamp during the simulation.\n",
    "> \n",
    "> **data[\"pendulum_velocity\"]** : *List of Floats*  \n",
    "> A list of the pendulum velocity in radians/secondat each time stamp during the simulation.\n",
    "> \n",
    "> **data[\"wheel_velocity\"]** : *List of Floats*  \n",
    "> A list of the wheel velocity in radians/second at each time stamp during the simulation.\n",
    "> \n",
    "> **data[\"torque\"]** : *List of Floats*  \n",
    "> A list of the applied torque in Newton-meters at each time stamp during the simulation.\n",
    "> \n",
    "> **data[\"time\"]** : *List of Floats*  \n",
    "> A list of the time stamps in seconds."
   ]
  },
  {
   "cell_type": "markdown",
   "id": "738da352-14fa-4ba8-aa3f-bf1ab26ea392",
   "metadata": {},
   "source": [
    "You can use the keyboard to interact with the simulation:\n",
    "* press **ENTER** to start the simulation\n",
    "* press **BACKSPACE** to reset the simulation\n",
    "* press **SPACE** to pause the simulation\n",
    "* press **ESC** to end the simulation\n",
    "\n",
    "If the manual controller is being used:\n",
    "* press **a** to apply small negative torque to wheels\n",
    "* press **SHIFT+a** to apply large negative torque to wheels\n",
    "* press **d** to apply small positive torque to wheels\n",
    "* press **SHIFT+d** to apply large positive torque to wheels "
   ]
  },
  {
   "cell_type": "code",
   "execution_count": null,
   "id": "ecb140d3-bc3a-472b-a0f7-466f7599d92a",
   "metadata": {},
   "outputs": [],
   "source": [
    "# Run the simulation and collect the simulation data\n",
    "data = sim.run(controller)"
   ]
  },
  {
   "cell_type": "markdown",
   "id": "0bd45d6e-4fa1-4088-8263-f197ad953584",
   "metadata": {},
   "source": [
    "## Post-processing the simulation data\n",
    "After the simulation is run, we can plot the data using the Matplotlib package. To start, we import matplotlib."
   ]
  },
  {
   "cell_type": "code",
   "execution_count": null,
   "id": "fc40d3d1-f430-47f3-8fb0-3f11d32ecb1f",
   "metadata": {},
   "outputs": [],
   "source": [
    "# Import the pyplot module from the matplotlib package\n",
    "import matplotlib.pyplot as plt"
   ]
  },
  {
   "cell_type": "markdown",
   "id": "0d106a42-eb3d-4022-abfc-e0325523e3b5",
   "metadata": {},
   "source": [
    "Now we can make whichever plots we see fit to make sense of the simulation data. Here we plot the pendulum versus time as well as the applied torque versus time."
   ]
  },
  {
   "cell_type": "code",
   "execution_count": null,
   "id": "b5eefec6-0aad-4e7a-ad60-7e0430923e94",
   "metadata": {},
   "outputs": [],
   "source": [
    "# Create a figure that has two plots in it\n",
    "fig, axes = plt.subplots(2, 1, figsize=(7.2, 5.4), sharex=True)"
   ]
  },
  {
   "cell_type": "code",
   "execution_count": null,
   "id": "71fec076-7d95-4f85-b071-d3785b7ea3ff",
   "metadata": {},
   "outputs": [],
   "source": [
    "# Create a plot of the wheel angle and target wheel angle versus time on the first plot\n",
    "axes[0].plot(data['time'], data['pendulum_angle'], label=\"Angle\", c='k', lw=2.5)\n",
    "axes[0].set_ylabel(\"Angle [rad]\", fontsize=12)\n",
    "axes[0].tick_params(axis='y', labelsize=12)\n",
    "axes[0].legend(fontsize=12, shadow=True)\n",
    "axes[0].set_title(\"Pendulum Angle vs. Time\", fontsize=14)\n",
    "axes[0].grid()"
   ]
  },
  {
   "cell_type": "code",
   "execution_count": null,
   "id": "c5a017aa-8b26-4149-8bee-3570310c0c94",
   "metadata": {},
   "outputs": [],
   "source": [
    "# Create a plot of the torque versus time on the second plot\n",
    "axes[1].plot(data['time'], data['torque'], label=\"Torque\", c='b', lw=2.5)\n",
    "axes[1].set_xlabel(\"Time [s]\", fontsize=12)\n",
    "axes[1].set_ylabel(\"Torque [Nm]\", fontsize=12)\n",
    "axes[1].tick_params(axis='both', labelsize=12)\n",
    "axes[1].set_title(\"Torque vs. Time\", fontsize=14)\n",
    "axes[1].grid()"
   ]
  },
  {
   "cell_type": "code",
   "execution_count": null,
   "id": "da84299f-ab97-47ea-aa2f-8d3fee5a3d57",
   "metadata": {},
   "outputs": [],
   "source": [
    "# Show the figure\n",
    "fig.tight_layout(pad=2.0)\n",
    "plt.show()"
   ]
  }
 ],
 "metadata": {
  "kernelspec": {
   "display_name": "Python 3 (ipykernel)",
   "language": "python",
   "name": "python3"
  },
  "language_info": {
   "codemirror_mode": {
    "name": "ipython",
    "version": 3
   },
   "file_extension": ".py",
   "mimetype": "text/x-python",
   "name": "python",
   "nbconvert_exporter": "python",
   "pygments_lexer": "ipython3",
   "version": "3.10.0"
  }
 },
 "nbformat": 4,
 "nbformat_minor": 5
}
