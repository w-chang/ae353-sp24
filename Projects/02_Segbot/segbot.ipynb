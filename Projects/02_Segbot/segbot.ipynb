{
 "cells": [
  {
   "cell_type": "code",
   "execution_count": null,
   "id": "10af38ac-d69c-49af-8380-2b18fb97c89c",
   "metadata": {},
   "outputs": [],
   "source": [
    "import ae353_segbot\n",
    "sim = ae353_segbot.Segbot_sim(animation=True)"
   ]
  },
  {
   "cell_type": "code",
   "execution_count": null,
   "id": "20a36e1a-05cd-4402-bd28-045a2514a5d8",
   "metadata": {},
   "outputs": [],
   "source": [
    "sim.run(10.0)"
   ]
  },
  {
   "cell_type": "code",
   "execution_count": null,
   "id": "06cc22bb-fde2-479e-82b7-173e9611699c",
   "metadata": {},
   "outputs": [],
   "source": []
  }
 ],
 "metadata": {
  "kernelspec": {
   "display_name": "Python 3 (ipykernel)",
   "language": "python",
   "name": "python3"
  },
  "language_info": {
   "codemirror_mode": {
    "name": "ipython",
    "version": 3
   },
   "file_extension": ".py",
   "mimetype": "text/x-python",
   "name": "python",
   "nbconvert_exporter": "python",
   "pygments_lexer": "ipython3",
   "version": "3.11.7"
  }
 },
 "nbformat": 4,
 "nbformat_minor": 5
}
