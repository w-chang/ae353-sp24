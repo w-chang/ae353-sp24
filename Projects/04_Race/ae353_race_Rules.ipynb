{
 "cells": [
  {
   "cell_type": "markdown",
   "id": "5309a767-b2bb-44a7-bb9c-d915946bdc1a",
   "metadata": {},
   "source": [
    "# Controller Submission Rules"
   ]
  },
  {
   "cell_type": "markdown",
   "id": "1060dcbf-f945-4dd3-9b3a-0452f5768a2f",
   "metadata": {},
   "source": [
    "There will be an opportunity to race with your friends in a friendly contest on the last day of class. The same project code that you are using for the purpose of control design and simulation will be used to run each race in this contest. To enter the race, your team must upload exactly one file to Canvas:\n",
    "* netid.py, a completely self-contained implementation of your control design, templated by Projects/04_Race/ae353_race_Template.ipynb and in the format specified in this notebook. If your submission does not meet **all** requirements listed below, it will be considered invalid and not be able to race."
   ]
  },
  {
   "cell_type": "markdown",
   "id": "78557c0f-f1d6-4866-928e-4549c7b91d1d",
   "metadata": {},
   "source": [
    "Before submitting the ``ae353_race_Template.py`` template, you must rename it to ``netid.py``. You may use either your partner's netid or your netid. Submit only one ``.py`` per group."
   ]
  },
  {
   "cell_type": "markdown",
   "id": "afaf4365-b982-43b1-a0cf-55dfcdc95933",
   "metadata": {},
   "source": [
    "## Define the ``Controller`` Class"
   ]
  },
  {
   "cell_type": "markdown",
   "id": "c922c614-0060-49a1-af75-ca96cb90ba32",
   "metadata": {},
   "source": [
    "Your ``Controller`` class must meet the following requirements to be valid:\n",
    "1. Your controller must be completely defined within the ``netid.py`` file.\n",
    "2. You may not use any functions or modules that exist outside of the ``ae353`` conda environment in the ``netid.py`` file.\n",
    "3. The ``Controller.__init__()``, ``Controller.reset()``, ``Controller.run()`` must not raise any exceptions (i.e., throw an error).\n",
    "4. The ``Controller.__init__()``, ``Controller.reset()``, ``Controller.run()`` must not print anything to stdout (i.e., run print statements).\n",
    "5. The ``Controller`` class must not exceed limits on computation time:\n",
    "    * 1 second for ``Controller.__init__()``\n",
    "    * 1 second for ``Controller.reset()``\n",
    "    * 5e-3 seconds for ``Controller.run()``\n",
    "7. You must not modify the arguments to any of the functions in the ``Controller`` class.\n",
    "8.  ``Controller.reset()`` must return None.\n",
    "9. The return value for the ``Controller.run()`` function must be a list of 4 floats. "
   ]
  },
  {
   "cell_type": "markdown",
   "id": "5e995d0b-d3b6-4d03-821d-e81aa3eb4345",
   "metadata": {},
   "source": [
    "## Define the ``make_controller()`` Function"
   ]
  },
  {
   "cell_type": "markdown",
   "id": "b984923b-8245-4b3b-a43a-c3148c405715",
   "metadata": {},
   "source": [
    "In addition to the ``Controller`` class, you must also make a ``make_controller()`` function. This function is used to generate a single instance of your ``Controller`` class and also define the team for which your controller races."
   ]
  },
  {
   "cell_type": "markdown",
   "id": "928d2b37-df73-4a36-938a-92a44e3783e0",
   "metadata": {},
   "source": [
    "Your ``make_controller()`` function must meet the following requirements to be valid:\n",
    "1. It must be completely defined within the ``netid.py`` file.\n",
    "2. You may not use any functions or modules that exist outside of the ``ae353`` conda environment in the ``netid.py`` file.\n",
    "3. It must not raise any exceptions (i.e., throw an error).\n",
    "4. It must not print anything to stdout (i.e., run print statements).\n",
    "5. It must not exceed limits on computation time: 5 seconds for execution.\n",
    "7. You must not modify the arguments to of ``make_controller()``.\n",
    "8. It must return a tuple of one instance of your ``Controller`` class and one string that defines your team. The team name string must be a valid team name:\n",
    "    * \"the ORB\"\n",
    "    * \"Team Kachow\"\n",
    "    * \"Team Steam Tunnels\"\n",
    "    * \"Team Flying Mambas\"\n",
    "    * \"Team Spare Chang-e\"\n",
    "    * \"the Flying Illini\""
   ]
  },
  {
   "cell_type": "markdown",
   "id": "85030ad7-55e7-4a3d-af1b-0b2b32191a25",
   "metadata": {},
   "source": [
    "# Test Your Submission"
   ]
  },
  {
   "cell_type": "markdown",
   "id": "59040a2f-2ddb-4fc3-976d-5861476df0b3",
   "metadata": {},
   "source": [
    "We have provided a test function below for you to test your controller submission to ensure it meets all the rules."
   ]
  },
  {
   "cell_type": "code",
   "execution_count": null,
   "id": "72749bdf-0ca9-48d9-85b0-7ea30a1cc656",
   "metadata": {},
   "outputs": [],
   "source": [
    "# Import the testing function. This is the same function that will be run for the actual races\n",
    "from ae353_race_Tests import run_tests"
   ]
  },
  {
   "cell_type": "code",
   "execution_count": null,
   "id": "895f7e0f-fff7-47bd-9c7f-7ed95e52c468",
   "metadata": {},
   "outputs": [],
   "source": [
    "# Define your submission here. If your sumbission is \"netid.py\" put \"netid\" in the racer_names list.\n",
    "# If you want to test more than one submission, you may put as many names in the racer_names list as you want.\n",
    "# All names in racer_names will be tested.\n",
    "# YOUR SUBMISSION YOU TEST MUST BE IN THE SAME FOLDER AS ae353_race_Tests.py\n",
    "racer_names = [\"ae353_race_Template\", ]"
   ]
  },
  {
   "cell_type": "code",
   "execution_count": null,
   "id": "b967aa45-7121-4b0c-80a4-89c7f71b8df2",
   "metadata": {},
   "outputs": [],
   "source": [
    "# Run the tests. This will tell you what went wrong if anything did.\n",
    "run_tests(racer_names)"
   ]
  },
  {
   "cell_type": "code",
   "execution_count": null,
   "id": "c56121af-4616-4d71-9fc8-310a091dc8d8",
   "metadata": {},
   "outputs": [],
   "source": []
  }
 ],
 "metadata": {
  "kernelspec": {
   "display_name": "Python 3 (ipykernel)",
   "language": "python",
   "name": "python3"
  },
  "language_info": {
   "codemirror_mode": {
    "name": "ipython",
    "version": 3
   },
   "file_extension": ".py",
   "mimetype": "text/x-python",
   "name": "python",
   "nbconvert_exporter": "python",
   "pygments_lexer": "ipython3",
   "version": "3.11.8"
  }
 },
 "nbformat": 4,
 "nbformat_minor": 5
}
